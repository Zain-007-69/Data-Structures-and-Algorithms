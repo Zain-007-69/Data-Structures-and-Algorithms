{
 "cells": [
  {
   "cell_type": "markdown",
   "metadata": {},
   "source": [
    "# Stack using Python List:"
   ]
  },
  {
   "cell_type": "code",
   "execution_count": null,
   "metadata": {},
   "outputs": [],
   "source": [
    "class StackUsingList:\n",
    "    def __init__(self):\n",
    "        self.stack = []\n",
    "\n",
    "    def is_empty(self):\n",
    "        return len(self.stack) == 0\n",
    "\n",
    "    def push(self, item):\n",
    "        self.stack.append(item)\n",
    "\n",
    "    def pop(self):\n",
    "        if not self.is_empty():\n",
    "            return self.stack.pop()\n",
    "        return None\n",
    "\n",
    "    def peek(self):\n",
    "        if not self.is_empty():\n",
    "            return self.stack[-1]\n",
    "        return None\n",
    "\n",
    "    def size(self):\n",
    "        return len(self.stack)\n",
    "\n",
    "    def display(self):\n",
    "        print(\"Stack:\", self.stack)\n",
    "\n",
    "    def clear(self):\n",
    "        self.stack = []\n",
    "\n",
    "    def contains(self, item):\n",
    "        return item in self.stack\n",
    "\n",
    "    def copy(self):\n",
    "        return self.stack.copy()\n",
    "\n",
    "    def reverse(self):\n",
    "        self.stack.reverse()\n"
   ]
  },
  {
   "cell_type": "code",
   "execution_count": null,
   "metadata": {},
   "outputs": [],
   "source": [
    "stack_list = StackUsingList()\n",
    "\n",
    "# Push elements\n",
    "stack_list.push(1)\n",
    "stack_list.push(2)\n",
    "stack_list.push(3)\n",
    "\n",
    "# Display stack\n",
    "stack_list.display()\n",
    "\n",
    "# Check if empty\n",
    "print(\"Is Empty:\", stack_list.is_empty())\n",
    "\n",
    "# Peek at the top element\n",
    "print(\"Peek:\", stack_list.peek())\n",
    "\n",
    "# Pop elements\n",
    "print(\"Pop:\", stack_list.pop())\n",
    "print(\"Pop:\", stack_list.pop())\n",
    "\n",
    "# Display stack after pops\n",
    "stack_list.display()\n",
    "\n",
    "# Check size\n",
    "print(\"Size:\", stack_list.size())\n",
    "\n",
    "# Check if it contains an element\n",
    "print(\"Contains 2:\", stack_list.contains(2))\n",
    "\n",
    "# Clear the stack\n",
    "stack_list.clear()\n",
    "stack_list.display()"
   ]
  }
 ],
 "metadata": {
  "kernelspec": {
   "display_name": "Python 3",
   "language": "python",
   "name": "python3"
  },
  "language_info": {
   "codemirror_mode": {
    "name": "ipython",
    "version": 3
   },
   "file_extension": ".py",
   "mimetype": "text/x-python",
   "name": "python",
   "nbconvert_exporter": "python",
   "pygments_lexer": "ipython3",
   "version": "3.11.4"
  }
 },
 "nbformat": 4,
 "nbformat_minor": 2
}
