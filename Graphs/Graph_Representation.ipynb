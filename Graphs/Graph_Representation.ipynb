{
 "cells": [
  {
   "cell_type": "markdown",
   "metadata": {},
   "source": [
    "# Graph Rrepresentation"
   ]
  },
  {
   "cell_type": "code",
   "execution_count": null,
   "metadata": {},
   "outputs": [],
   "source": [
    "class Graph:\n",
    "    def __init__(self):\n",
    "        self.graph = {}\n",
    "\n",
    "    def add_vertex(self, vertex):\n",
    "        # Add a new vertex to the graph\n",
    "        if vertex not in self.graph:\n",
    "            self.graph[vertex] = []\n",
    "\n",
    "    def add_edge(self, u, v):\n",
    "        # Add an undirected edge between vertices u and v\n",
    "        self.add_vertex(u)\n",
    "        self.add_vertex(v)\n",
    "        self.graph[u].append(v)\n",
    "        self.graph[v].append(u)\n",
    "\n",
    "    def display(self):\n",
    "        # Display the graph in a readable format\n",
    "        for vertex, neighbors in self.graph.items():\n",
    "            print(f\"{vertex}: {neighbors}\")\n",
    "\n",
    "# Example usage:\n",
    "my_graph = Graph()\n",
    "\n",
    "my_graph.add_edge('A', 'B')\n",
    "my_graph.add_edge('A', 'C')\n",
    "my_graph.add_edge('B', 'C')\n",
    "my_graph.add_edge('B', 'D')\n",
    "my_graph.add_edge('C', 'D')\n",
    "\n",
    "print(\"Graph Representation (Adjacency List):\")\n",
    "my_graph.display()"
   ]
  }
 ],
 "metadata": {
  "kernelspec": {
   "display_name": "Python 3",
   "language": "python",
   "name": "python3"
  },
  "language_info": {
   "codemirror_mode": {
    "name": "ipython",
    "version": 3
   },
   "file_extension": ".py",
   "mimetype": "text/x-python",
   "name": "python",
   "nbconvert_exporter": "python",
   "pygments_lexer": "ipython3",
   "version": "3.11.4"
  }
 },
 "nbformat": 4,
 "nbformat_minor": 2
}
