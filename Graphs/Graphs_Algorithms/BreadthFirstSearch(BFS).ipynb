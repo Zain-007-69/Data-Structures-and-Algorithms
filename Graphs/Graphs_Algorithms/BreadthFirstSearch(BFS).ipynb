{
 "cells": [
  {
   "cell_type": "markdown",
   "metadata": {},
   "source": [
    "# Breadth First Search"
   ]
  },
  {
   "cell_type": "code",
   "execution_count": 2,
   "metadata": {},
   "outputs": [
    {
     "name": "stdout",
     "output_type": "stream",
     "text": [
      "BFS traversal starting from node 1: [1, 2, 3, 4, 5, 6]\n"
     ]
    }
   ],
   "source": [
    "from collections import deque\n",
    "\n",
    "class Graph:\n",
    "    def __init__(self):\n",
    "        self.graph = {}\n",
    "\n",
    "    def add_edge(self, u, v):\n",
    "        self.graph.setdefault(u, []).append(v)\n",
    "        self.graph.setdefault(v, []).append(u)\n",
    "\n",
    "    def bfs(self, start):\n",
    "        visited = set()\n",
    "        queue = deque([start])\n",
    "        result = []\n",
    "\n",
    "        while queue:\n",
    "            current_node = queue.popleft()\n",
    "\n",
    "            if current_node not in visited:\n",
    "                result.append(current_node)\n",
    "                visited.add(current_node)\n",
    "\n",
    "                neighbors = self.graph.get(current_node, [])\n",
    "                queue.extend(neighbors)\n",
    "\n",
    "        return result\n",
    "\n",
    "# Example usage:\n",
    "my_graph = Graph()\n",
    "\n",
    "my_graph.add_edge(1, 2)\n",
    "my_graph.add_edge(1, 3)\n",
    "my_graph.add_edge(2, 4)\n",
    "my_graph.add_edge(2, 5)\n",
    "my_graph.add_edge(3, 6)\n",
    "\n",
    "start_node = 1\n",
    "bfs_result = my_graph.bfs(start_node)\n",
    "\n",
    "print(f\"BFS traversal starting from node {start_node}: {bfs_result}\")"
   ]
  }
 ],
 "metadata": {
  "kernelspec": {
   "display_name": "Python 3",
   "language": "python",
   "name": "python3"
  },
  "language_info": {
   "codemirror_mode": {
    "name": "ipython",
    "version": 3
   },
   "file_extension": ".py",
   "mimetype": "text/x-python",
   "name": "python",
   "nbconvert_exporter": "python",
   "pygments_lexer": "ipython3",
   "version": "3.11.4"
  }
 },
 "nbformat": 4,
 "nbformat_minor": 2
}
