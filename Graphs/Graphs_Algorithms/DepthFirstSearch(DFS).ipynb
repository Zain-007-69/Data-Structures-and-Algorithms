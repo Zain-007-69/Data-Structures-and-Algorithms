{
 "cells": [
  {
   "cell_type": "markdown",
   "metadata": {},
   "source": [
    "# Depth First Search"
   ]
  },
  {
   "cell_type": "code",
   "execution_count": null,
   "metadata": {},
   "outputs": [],
   "source": [
    "class Graph:\n",
    "    def __init__(self):\n",
    "        self.graph = {}\n",
    "\n",
    "    def add_edge(self, u, v):\n",
    "        self.graph.setdefault(u, []).append(v)\n",
    "        self.graph.setdefault(v, []).append(u)\n",
    "\n",
    "    def dfs(self, start):\n",
    "        visited = set()\n",
    "        result = []\n",
    "\n",
    "        def dfs_recursive(node):\n",
    "            visited.add(node)\n",
    "            result.append(node)\n",
    "\n",
    "            for neighbor in self.graph.get(node, []):\n",
    "                if neighbor not in visited:\n",
    "                    dfs_recursive(neighbor)\n",
    "\n",
    "        dfs_recursive(start)\n",
    "        return result\n",
    "\n",
    "# Example usage:\n",
    "my_graph = Graph()\n",
    "\n",
    "my_graph.add_edge(1, 2)\n",
    "my_graph.add_edge(1, 3)\n",
    "my_graph.add_edge(2, 4)\n",
    "my_graph.add_edge(2, 5)\n",
    "my_graph.add_edge(3, 6)\n",
    "\n",
    "start_node = 1\n",
    "dfs_result = my_graph.dfs(start_node)\n",
    "\n",
    "print(f\"DFS traversal starting from node {start_node}: {dfs_result}\")"
   ]
  }
 ],
 "metadata": {
  "kernelspec": {
   "display_name": "Python 3",
   "language": "python",
   "name": "python3"
  },
  "language_info": {
   "codemirror_mode": {
    "name": "ipython",
    "version": 3
   },
   "file_extension": ".py",
   "mimetype": "text/x-python",
   "name": "python",
   "nbconvert_exporter": "python",
   "pygments_lexer": "ipython3",
   "version": "3.11.4"
  }
 },
 "nbformat": 4,
 "nbformat_minor": 2
}
