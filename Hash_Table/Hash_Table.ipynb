{
 "cells": [
  {
   "cell_type": "markdown",
   "metadata": {},
   "source": [
    "# Hash Table"
   ]
  },
  {
   "cell_type": "code",
   "execution_count": null,
   "metadata": {},
   "outputs": [],
   "source": [
    "class HashTable:\n",
    "    def __init__(self, size=10):\n",
    "        self.size = size\n",
    "        self.table = [None] * size\n",
    "\n",
    "    def _hash_function(self, key):\n",
    "        return hash(key) % self.size\n",
    "\n",
    "    def insert(self, key, value):\n",
    "        index = self._hash_function(key)\n",
    "        if self.table[index] is None:\n",
    "            self.table[index] = [(key, value)]\n",
    "        else:\n",
    "            for i, (existing_key, _) in enumerate(self.table[index]):\n",
    "                if existing_key == key:\n",
    "                    # If key already exists, update its value\n",
    "                    self.table[index][i] = (key, value)\n",
    "                    break\n",
    "            else:\n",
    "                # If key doesn't exist, append it to the bucket\n",
    "                self.table[index].append((key, value))\n",
    "\n",
    "    def get(self, key):\n",
    "        index = self._hash_function(key)\n",
    "        if self.table[index] is not None:\n",
    "            for existing_key, value in self.table[index]:\n",
    "                if existing_key == key:\n",
    "                    return value\n",
    "        raise KeyError(f\"Key '{key}' not found in the hash table.\")\n",
    "\n",
    "    def delete(self, key):\n",
    "        index = self._hash_function(key)\n",
    "        if self.table[index] is not None:\n",
    "            for i, (existing_key, _) in enumerate(self.table[index]):\n",
    "                if existing_key == key:\n",
    "                    del self.table[index][i]\n",
    "                    break\n",
    "            else:\n",
    "                raise KeyError(f\"Key '{key}' not found in the hash table.\")\n",
    "\n",
    "    def __str__(self):\n",
    "        return str(self.table)\n",
    "\n",
    "# Example usage:\n",
    "hash_table = HashTable()\n",
    "\n",
    "hash_table.insert(\"apple\", 5)\n",
    "hash_table.insert(\"banana\", 8)\n",
    "hash_table.insert(\"orange\", 12)\n",
    "\n",
    "print(\"Initial Hash Table:\", hash_table)\n",
    "\n",
    "# Retrieve values\n",
    "print(\"Value for 'apple':\", hash_table.get(\"apple\"))\n",
    "print(\"Value for 'banana':\", hash_table.get(\"banana\"))\n",
    "\n",
    "# Update values\n",
    "hash_table.insert(\"apple\", 10)\n",
    "print(\"Updated Hash Table:\", hash_table)\n",
    "\n",
    "# Delete a key\n",
    "hash_table.delete(\"banana\")\n",
    "print(\"Hash Table after deleting 'banana':\", hash_table)"
   ]
  }
 ],
 "metadata": {
  "kernelspec": {
   "display_name": "Python 3",
   "language": "python",
   "name": "python3"
  },
  "language_info": {
   "codemirror_mode": {
    "name": "ipython",
    "version": 3
   },
   "file_extension": ".py",
   "mimetype": "text/x-python",
   "name": "python",
   "nbconvert_exporter": "python",
   "pygments_lexer": "ipython3",
   "version": "3.11.4"
  }
 },
 "nbformat": 4,
 "nbformat_minor": 2
}
