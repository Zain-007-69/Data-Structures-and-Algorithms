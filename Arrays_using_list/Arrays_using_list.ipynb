{
 "cells": [
  {
   "cell_type": "markdown",
   "metadata": {},
   "source": [
    "# Arrays in Python (Using Lists):"
   ]
  },
  {
   "cell_type": "markdown",
   "metadata": {},
   "source": [
    "1. Declaration and Initialization:\n",
    "\n",
    "\n",
    "In Python, arrays are often implemented using lists. Here's how you can declare and initialize an array:"
   ]
  },
  {
   "cell_type": "code",
   "execution_count": null,
   "metadata": {},
   "outputs": [],
   "source": [
    "# Creating an empty array\n",
    "my_array = []\n",
    "\n",
    "# Initializing an array with elements\n",
    "my_array = [1, 2, 3, 4, 5]"
   ]
  },
  {
   "cell_type": "markdown",
   "metadata": {},
   "source": [
    "2. Accessing Elements:\n",
    "\n",
    "\n",
    "You can access elements in an array using their index. Python uses zero-based indexing, meaning the first element has an index of 0."
   ]
  },
  {
   "cell_type": "code",
   "execution_count": null,
   "metadata": {},
   "outputs": [],
   "source": [
    "# Accessing elements\n",
    "first_element = my_array[0]\n",
    "second_element = my_array[1]\n",
    "\n",
    "# Accessing the last element\n",
    "last_element = my_array[-1]"
   ]
  },
  {
   "cell_type": "markdown",
   "metadata": {},
   "source": [
    "3. Modifying Elements:\n",
    "\n",
    "\n",
    "You can modify the values of array elements by assigning new values to them.\n",
    "\n"
   ]
  },
  {
   "cell_type": "code",
   "execution_count": null,
   "metadata": {},
   "outputs": [],
   "source": [
    "# Modifying elements\n",
    "my_array[2] = 10\n"
   ]
  },
  {
   "cell_type": "markdown",
   "metadata": {},
   "source": [
    "4. Array Length:\n",
    "\n",
    "\n",
    "You can find the length of an array using the len() function.\n",
    "\n"
   ]
  },
  {
   "cell_type": "code",
   "execution_count": null,
   "metadata": {},
   "outputs": [],
   "source": [
    "# Finding the length of an array\n",
    "array_length = len(my_array)\n"
   ]
  },
  {
   "cell_type": "markdown",
   "metadata": {},
   "source": [
    "5. Iterating through an Array:\n",
    "\n",
    "\n",
    "You can use loops to iterate through the elements of an array."
   ]
  },
  {
   "cell_type": "code",
   "execution_count": null,
   "metadata": {},
   "outputs": [],
   "source": [
    "# Iterating through elements\n",
    "for element in my_array:\n",
    "    print(element)\n"
   ]
  },
  {
   "cell_type": "markdown",
   "metadata": {},
   "source": [
    "6. Adding and Removing Elements:\n",
    "\n",
    "\n",
    "You can add elements to the end of the array using append() and remove elements using pop()."
   ]
  },
  {
   "cell_type": "code",
   "execution_count": null,
   "metadata": {},
   "outputs": [],
   "source": [
    "# Adding elements\n",
    "my_array.append(6)\n",
    "\n",
    "# Removing elements\n",
    "removed_element = my_array.pop(2)"
   ]
  },
  {
   "cell_type": "markdown",
   "metadata": {},
   "source": [
    "7. Multi-dimensional Arrays:\n",
    "\n",
    "\n",
    "In Python, you can create multi-dimensional arrays using nested lists."
   ]
  },
  {
   "cell_type": "code",
   "execution_count": null,
   "metadata": {},
   "outputs": [],
   "source": [
    "# 2D array (matrix)\n",
    "matrix = [[1, 2, 3], [4, 5, 6], [7, 8, 9]]\n",
    "\n",
    "# Accessing elements in a 2D array\n",
    "element = matrix[1][2]\n"
   ]
  },
  {
   "cell_type": "markdown",
   "metadata": {},
   "source": [
    "Example: Finding the Sum of Elements in an Array"
   ]
  },
  {
   "cell_type": "code",
   "execution_count": null,
   "metadata": {},
   "outputs": [],
   "source": [
    "def array_sum(arr):\n",
    "    total_sum = 0\n",
    "    for element in arr:\n",
    "        total_sum += element\n",
    "    return total_sum\n",
    "\n",
    "# Example usage\n",
    "my_array = [1, 2, 3, 4, 5]\n",
    "result = array_sum(my_array)\n",
    "print(\"Sum of array elements:\", result)\n"
   ]
  },
  {
   "cell_type": "markdown",
   "metadata": {},
   "source": [
    "This example demonstrates a simple function to find the sum of elements in an array. Arrays in Python, implemented using lists, provide a flexible and easy-to-use way to work with collections of elements."
   ]
  },
  {
   "cell_type": "markdown",
   "metadata": {},
   "source": [
    "Example: Searching for an Element in an Array"
   ]
  },
  {
   "cell_type": "code",
   "execution_count": null,
   "metadata": {},
   "outputs": [],
   "source": [
    "def linear_search(arr, target):\n",
    "    for i, element in enumerate(arr):\n",
    "        if element == target:\n",
    "            return i  # Return the index of the target if found\n",
    "    return -1  # Return -1 if the target is not found\n",
    "\n",
    "# Example usage\n",
    "my_array = [1, 2, 3, 4, 5]\n",
    "target_element = 3\n",
    "result = linear_search(my_array, target_element)\n",
    "\n",
    "if result != -1:\n",
    "    print(f\"Element {target_element} found at index {result}.\")\n",
    "else:\n",
    "    print(f\"Element {target_element} not found in the array.\")\n"
   ]
  },
  {
   "cell_type": "markdown",
   "metadata": {},
   "source": [
    "This example demonstrates a linear search algorithm to find an element in an array. The function returns the index of the target element if found, or -1 if the element is not present.\n",
    "\n",
    "Arrays provide a foundation for more complex data structures and algorithms. Understanding how to manipulate and work with arrays is crucial for developing efficient and scalable programs.\n",
    "\n",
    "It's important to note that Python provides several built-in functions and modules (e.g., NumPy) that offer more advanced features for working with arrays and numerical computations. Depending on your specific needs, you may choose to explore these libraries for enhanced functionality."
   ]
  },
  {
   "cell_type": "markdown",
   "metadata": {},
   "source": [
    "\n",
    "8. Time Complexity of Array Operations:\n",
    "\n",
    "\n",
    "Understanding the time complexity of common operations on arrays is essential for designing efficient algorithms. In general:\n",
    "\n",
    "Accessing an element by index: O(1)\n",
    "Inserting or deleting an element at the end (using append or pop): O(1)\n",
    "Inserting or deleting an element at an arbitrary position: O(n) where n is the number of elements, as it may require shifting elements."
   ]
  },
  {
   "cell_type": "markdown",
   "metadata": {},
   "source": [
    "9. Dynamic Arrays:\n",
    "\n",
    "\n",
    "Dynamic arrays are resizable arrays that automatically adjust their size when elements are added or removed. In Python, the built-in list type acts as a dynamic array. Dynamic arrays help overcome the fixed-size limitation of static arrays."
   ]
  },
  {
   "cell_type": "code",
   "execution_count": null,
   "metadata": {},
   "outputs": [],
   "source": [
    "# Dynamic array in Python\n",
    "dynamic_array = [1, 2, 3]\n",
    "dynamic_array.append(4)  # O(1) amortized time for appending"
   ]
  },
  {
   "cell_type": "markdown",
   "metadata": {},
   "source": [
    "10. Array Slicing:\n",
    "\n",
    "\n",
    "Array slicing is a powerful feature that allows you to extract a portion of an array easily."
   ]
  },
  {
   "cell_type": "code",
   "execution_count": null,
   "metadata": {},
   "outputs": [],
   "source": [
    "# Array slicing\n",
    "subarray = my_array[1:4]  # Elements at index 1, 2, and 3"
   ]
  },
  {
   "cell_type": "markdown",
   "metadata": {},
   "source": [
    "11. Array Concatenation:\n",
    "\n",
    "\n",
    "You can concatenate two arrays using the + operator."
   ]
  },
  {
   "cell_type": "code",
   "execution_count": null,
   "metadata": {},
   "outputs": [],
   "source": [
    "# Array concatenation\n",
    "concatenated_array = my_array + [6, 7, 8]"
   ]
  },
  {
   "cell_type": "markdown",
   "metadata": {},
   "source": [
    "12. Common Array Problems in DSA:\n",
    "\n",
    "a. Finding the Maximum and Minimum Element:\n"
   ]
  },
  {
   "cell_type": "code",
   "execution_count": null,
   "metadata": {},
   "outputs": [],
   "source": [
    "max_element = max(my_array)\n",
    "min_element = min(my_array)"
   ]
  },
  {
   "cell_type": "markdown",
   "metadata": {},
   "source": [
    "b. Reversing an Array:"
   ]
  },
  {
   "cell_type": "code",
   "execution_count": null,
   "metadata": {},
   "outputs": [],
   "source": [
    "reversed_array = my_array[::-1]"
   ]
  },
  {
   "cell_type": "markdown",
   "metadata": {},
   "source": [
    "c. Finding Duplicate Elements:"
   ]
  },
  {
   "cell_type": "code",
   "execution_count": null,
   "metadata": {},
   "outputs": [],
   "source": [
    "def find_duplicates(arr):\n",
    "    seen = set()\n",
    "    duplicates = set()\n",
    "    for element in arr:\n",
    "        if element in seen:\n",
    "            duplicates.add(element)\n",
    "        else:\n",
    "            seen.add(element)\n",
    "    return list(duplicates)"
   ]
  },
  {
   "cell_type": "markdown",
   "metadata": {},
   "source": [
    "d. Rotating an Array:"
   ]
  },
  {
   "cell_type": "code",
   "execution_count": null,
   "metadata": {},
   "outputs": [],
   "source": [
    "def rotate_array(arr, k):\n",
    "    n = len(arr)\n",
    "    k = k % n  # Handle cases where k is larger than array size\n",
    "    rotated_array = arr[-k:] + arr[:-k]\n",
    "    return rotated_array"
   ]
  },
  {
   "cell_type": "markdown",
   "metadata": {},
   "source": [
    "13. Memory Layout:\n",
    "\n",
    "Understanding how arrays are stored in memory is crucial for optimizing access patterns. In languages like C or C++, arrays have a contiguous memory layout, allowing for efficient random access.\n",
    "\n",
    "In Python, lists are implemented as dynamic arrays but may not always have contiguous memory due to the underlying memory management."
   ]
  },
  {
   "cell_type": "markdown",
   "metadata": {},
   "source": [
    "14. Arrays vs. Lists in Python:\n",
    "While Python lists are flexible and easy to use, there are specialized libraries like NumPy that provide arrays with enhanced functionality for numerical computations, making them more suitable for scientific computing and data analysis."
   ]
  },
  {
   "cell_type": "code",
   "execution_count": null,
   "metadata": {},
   "outputs": [],
   "source": [
    "import numpy as np\n",
    "\n",
    "numpy_array = np.array([1, 2, 3, 4, 5])"
   ]
  },
  {
   "cell_type": "markdown",
   "metadata": {},
   "source": [
    "These aspects provide a deeper understanding of arrays in the context of DSA. Arrays serve as a fundamental building block for various algorithms, and mastering their usage is essential for effective problem-solving in computer science."
   ]
  }
 ],
 "metadata": {
  "kernelspec": {
   "display_name": "Python 3",
   "language": "python",
   "name": "python3"
  },
  "language_info": {
   "codemirror_mode": {
    "name": "ipython",
    "version": 3
   },
   "file_extension": ".py",
   "mimetype": "text/x-python",
   "name": "python",
   "nbconvert_exporter": "python",
   "pygments_lexer": "ipython3",
   "version": "3.11.4"
  }
 },
 "nbformat": 4,
 "nbformat_minor": 2
}
