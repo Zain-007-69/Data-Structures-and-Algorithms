{
 "cells": [
  {
   "cell_type": "markdown",
   "metadata": {},
   "source": [
    "# Singly Linked List using Python List:"
   ]
  },
  {
   "cell_type": "code",
   "execution_count": 1,
   "metadata": {},
   "outputs": [
    {
     "name": "stdout",
     "output_type": "stream",
     "text": [
      "Linked List: [1, 2, 3]\n",
      "Length: 3\n",
      "Is Empty: False\n",
      "Element at index 1: 2\n",
      "Contains 2: True\n",
      "Linked List: [1, 3]\n",
      "Linked List: [1]\n",
      "Linked List: []\n"
     ]
    }
   ],
   "source": [
    "class SinglyLinkedListUsingList:\n",
    "    def __init__(self):\n",
    "        self.linked_list = []\n",
    "\n",
    "    def append(self, data):\n",
    "        self.linked_list.append(data)\n",
    "\n",
    "    def display(self):\n",
    "        print(\"Linked List:\", self.linked_list)\n",
    "\n",
    "    def length(self):\n",
    "        return len(self.linked_list)\n",
    "\n",
    "    def is_empty(self):\n",
    "        return len(self.linked_list) == 0\n",
    "\n",
    "    def get_element_at_index(self, index):\n",
    "        if 0 <= index < len(self.linked_list):\n",
    "            return self.linked_list[index]\n",
    "        return None\n",
    "\n",
    "    def contains(self, data):\n",
    "        return data in self.linked_list\n",
    "\n",
    "    def remove_at_index(self, index):\n",
    "        if 0 <= index < len(self.linked_list):\n",
    "            del self.linked_list[index]\n",
    "\n",
    "    def remove_element(self, data):\n",
    "        if data in self.linked_list:\n",
    "            self.linked_list.remove(data)\n",
    "\n",
    "    def clear(self):\n",
    "        self.linked_list = []\n",
    "\n",
    "    def insert_at_index(self, index, data):\n",
    "        if 0 <= index <= len(self.linked_list):\n",
    "            self.linked_list.insert(index, data)\n",
    "\n",
    "\n",
    "\n",
    "# Testing SinglyLinkedListUsingList\n",
    "sll_list = SinglyLinkedListUsingList()\n",
    "\n",
    "# Append elements\n",
    "sll_list.append(1)\n",
    "sll_list.append(2)\n",
    "sll_list.append(3)\n",
    "\n",
    "# Display linked list\n",
    "sll_list.display()\n",
    "\n",
    "# Check length\n",
    "print(\"Length:\", sll_list.length())\n",
    "\n",
    "# Check if empty\n",
    "print(\"Is Empty:\", sll_list.is_empty())\n",
    "\n",
    "# Get element at index\n",
    "print(\"Element at index 1:\", sll_list.get_element_at_index(1))\n",
    "\n",
    "# Check if it contains an element\n",
    "print(\"Contains 2:\", sll_list.contains(2))\n",
    "\n",
    "# Remove element at index\n",
    "sll_list.remove_at_index(1)\n",
    "sll_list.display()\n",
    "\n",
    "# Remove specific element\n",
    "sll_list.remove_element(3)\n",
    "sll_list.display()\n",
    "\n",
    "# Clear the linked list\n",
    "sll_list.clear()\n",
    "sll_list.display()"
   ]
  }
 ],
 "metadata": {
  "kernelspec": {
   "display_name": "Python 3",
   "language": "python",
   "name": "python3"
  },
  "language_info": {
   "codemirror_mode": {
    "name": "ipython",
    "version": 3
   },
   "file_extension": ".py",
   "mimetype": "text/x-python",
   "name": "python",
   "nbconvert_exporter": "python",
   "pygments_lexer": "ipython3",
   "version": "3.11.4"
  }
 },
 "nbformat": 4,
 "nbformat_minor": 2
}
