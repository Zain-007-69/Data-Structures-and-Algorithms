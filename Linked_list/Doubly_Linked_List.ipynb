{
 "cells": [
  {
   "cell_type": "markdown",
   "metadata": {},
   "source": [
    "# Doubly Linked List"
   ]
  },
  {
   "cell_type": "code",
   "execution_count": null,
   "metadata": {},
   "outputs": [],
   "source": [
    "class Node:\n",
    "    def __init__(self, data):\n",
    "        self.data = data\n",
    "        self.next = None\n",
    "        self.prev = None\n",
    "\n",
    "class DoublyLinkedList:\n",
    "    def __init__(self):\n",
    "        self.head = None\n",
    "\n",
    "    def is_empty(self):\n",
    "        return self.head is None\n",
    "\n",
    "    def append(self, data):\n",
    "        new_node = Node(data)\n",
    "        if self.head is None:\n",
    "            self.head = new_node\n",
    "            return\n",
    "        last_node = self.head\n",
    "        while last_node.next:\n",
    "            last_node = last_node.next\n",
    "        last_node.next = new_node\n",
    "        new_node.prev = last_node\n",
    "\n",
    "    def prepend(self, data):\n",
    "        new_node = Node(data)\n",
    "        new_node.next = self.head\n",
    "        if self.head:\n",
    "            self.head.prev = new_node\n",
    "        self.head = new_node\n",
    "\n",
    "    def delete(self, key):\n",
    "        current_node = self.head\n",
    "\n",
    "        while current_node:\n",
    "            if current_node.data == key:\n",
    "                if current_node.next:\n",
    "                    current_node.next.prev = current_node.prev\n",
    "                if current_node.prev:\n",
    "                    current_node.prev.next = current_node.next\n",
    "                else:\n",
    "                    self.head = current_node.next\n",
    "                current_node = None\n",
    "                return\n",
    "            current_node = current_node.next\n",
    "\n",
    "    def display(self):\n",
    "        current_node = self.head\n",
    "        while current_node:\n",
    "            print(current_node.data, end=\" <-> \")\n",
    "            current_node = current_node.next\n",
    "        print(\"None\")\n",
    "\n",
    "# Example usage:\n",
    "doubly_linked_list = DoublyLinkedList()\n",
    "doubly_linked_list.append(1)\n",
    "doubly_linked_list.append(2)\n",
    "doubly_linked_list.append(3)\n",
    "doubly_linked_list.prepend(0)\n",
    "doubly_linked_list.display()\n",
    "\n",
    "doubly_linked_list.delete(2)\n",
    "doubly_linked_list.display()"
   ]
  }
 ],
 "metadata": {
  "kernelspec": {
   "display_name": "Python 3",
   "language": "python",
   "name": "python3"
  },
  "language_info": {
   "codemirror_mode": {
    "name": "ipython",
    "version": 3
   },
   "file_extension": ".py",
   "mimetype": "text/x-python",
   "name": "python",
   "nbconvert_exporter": "python",
   "pygments_lexer": "ipython3",
   "version": "3.11.4"
  }
 },
 "nbformat": 4,
 "nbformat_minor": 2
}
