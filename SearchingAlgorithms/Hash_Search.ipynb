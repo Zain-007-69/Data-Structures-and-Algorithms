{
 "cells": [
  {
   "cell_type": "markdown",
   "metadata": {},
   "source": [
    "# Hash Search"
   ]
  },
  {
   "cell_type": "code",
   "execution_count": 1,
   "metadata": {},
   "outputs": [
    {
     "name": "stdout",
     "output_type": "stream",
     "text": [
      "Value for key 'banana': 8\n"
     ]
    }
   ],
   "source": [
    "class HashTable:\n",
    "    def __init__(self, size=10):\n",
    "        self.size = size\n",
    "        self.table = [None] * size\n",
    "\n",
    "    def _hash_function(self, key):\n",
    "        return hash(key) % self.size\n",
    "\n",
    "    def insert(self, key, value):\n",
    "        index = self._hash_function(key)\n",
    "        if self.table[index] is None:\n",
    "            self.table[index] = [(key, value)]\n",
    "        else:\n",
    "            for i, (existing_key, _) in enumerate(self.table[index]):\n",
    "                if existing_key == key:\n",
    "                    # If key already exists, update its value\n",
    "                    self.table[index][i] = (key, value)\n",
    "                    break\n",
    "            else:\n",
    "                # If key doesn't exist, append it to the bucket\n",
    "                self.table[index].append((key, value))\n",
    "\n",
    "    def search(self, key):\n",
    "        index = self._hash_function(key)\n",
    "        if self.table[index] is not None:\n",
    "            for existing_key, value in self.table[index]:\n",
    "                if existing_key == key:\n",
    "                    return value\n",
    "        return None  # Key not found\n",
    "\n",
    "# Example usage:\n",
    "hash_table = HashTable()\n",
    "\n",
    "hash_table.insert(\"apple\", 5)\n",
    "hash_table.insert(\"banana\", 8)\n",
    "hash_table.insert(\"orange\", 12)\n",
    "\n",
    "search_key = \"banana\"\n",
    "result = hash_table.search(search_key)\n",
    "\n",
    "if result is not None:\n",
    "    print(f\"Value for key '{search_key}': {result}\")\n",
    "else:\n",
    "    print(f\"Key '{search_key}' not found in the hash table.\")"
   ]
  }
 ],
 "metadata": {
  "kernelspec": {
   "display_name": "Python 3",
   "language": "python",
   "name": "python3"
  },
  "language_info": {
   "codemirror_mode": {
    "name": "ipython",
    "version": 3
   },
   "file_extension": ".py",
   "mimetype": "text/x-python",
   "name": "python",
   "nbconvert_exporter": "python",
   "pygments_lexer": "ipython3",
   "version": "3.11.4"
  }
 },
 "nbformat": 4,
 "nbformat_minor": 2
}
