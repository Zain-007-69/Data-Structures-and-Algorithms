{
 "cells": [
  {
   "cell_type": "markdown",
   "metadata": {},
   "source": [
    "# Min Heap using python list"
   ]
  },
  {
   "cell_type": "code",
   "execution_count": 3,
   "metadata": {},
   "outputs": [
    {
     "name": "stdout",
     "output_type": "stream",
     "text": [
      "[2, 4, 7, 5]\n",
      "2\n",
      "[4, 5, 7]\n"
     ]
    }
   ],
   "source": [
    "class MinHeapList:\n",
    "    def __init__(self):\n",
    "        self.heap = []\n",
    "\n",
    "    def heapify_up(self, index):\n",
    "        while index > 0:\n",
    "            parent_index = (index - 1) // 2\n",
    "            if self.heap[index] < self.heap[parent_index]:\n",
    "                self.heap[index], self.heap[parent_index] = self.heap[parent_index], self.heap[index]\n",
    "                index = parent_index\n",
    "            else:\n",
    "                break\n",
    "\n",
    "    def heapify_down(self, index):\n",
    "        while True:\n",
    "            left_child_index = 2 * index + 1\n",
    "            right_child_index = 2 * index + 2\n",
    "            smallest = index\n",
    "\n",
    "            if left_child_index < len(self.heap) and self.heap[left_child_index] < self.heap[smallest]:\n",
    "                smallest = left_child_index\n",
    "\n",
    "            if right_child_index < len(self.heap) and self.heap[right_child_index] < self.heap[smallest]:\n",
    "                smallest = right_child_index\n",
    "\n",
    "            if smallest != index:\n",
    "                self.heap[index], self.heap[smallest] = self.heap[smallest], self.heap[index]\n",
    "                index = smallest\n",
    "            else:\n",
    "                break\n",
    "\n",
    "    def insert(self, value):\n",
    "        self.heap.append(value)\n",
    "        self.heapify_up(len(self.heap) - 1)\n",
    "\n",
    "    def extract_min(self):\n",
    "        if not self.heap:\n",
    "            return None\n",
    "\n",
    "        min_value = self.heap[0]\n",
    "\n",
    "        # Swap the last element with the root and heapify down\n",
    "        self.heap[0] = self.heap[-1]\n",
    "        del self.heap[-1]\n",
    "        self.heapify_down(0)\n",
    "\n",
    "        return min_value\n",
    "\n",
    "# Example usage:\n",
    "min_heap = MinHeapList()\n",
    "min_heap.insert(4)\n",
    "min_heap.insert(2)\n",
    "min_heap.insert(7)\n",
    "min_heap.insert(5)\n",
    "\n",
    "print(min_heap.heap)  # Output: [2, 4, 7, 5]\n",
    "\n",
    "min_value = min_heap.extract_min()\n",
    "print(min_value)  # Output: 2\n",
    "print(min_heap.heap)  # Output: [4, 5, 7]"
   ]
  }
 ],
 "metadata": {
  "kernelspec": {
   "display_name": "Python 3",
   "language": "python",
   "name": "python3"
  },
  "language_info": {
   "codemirror_mode": {
    "name": "ipython",
    "version": 3
   },
   "file_extension": ".py",
   "mimetype": "text/x-python",
   "name": "python",
   "nbconvert_exporter": "python",
   "pygments_lexer": "ipython3",
   "version": "3.11.4"
  }
 },
 "nbformat": 4,
 "nbformat_minor": 2
}
