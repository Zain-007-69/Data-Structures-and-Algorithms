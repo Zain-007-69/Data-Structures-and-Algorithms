{
 "cells": [
  {
   "cell_type": "markdown",
   "metadata": {},
   "source": [
    "# Min Heap using Linked Nodes:"
   ]
  },
  {
   "cell_type": "code",
   "execution_count": 3,
   "metadata": {},
   "outputs": [],
   "source": [
    "class Node:\n",
    "    def __init__(self, value):\n",
    "        self.value = value\n",
    "        self.left = None\n",
    "        self.right = None\n",
    "        self.parent = None\n",
    "\n",
    "class MinHeapLinkedNodes:\n",
    "    def __init__(self):\n",
    "        self.root = None\n",
    "\n",
    "    def insert(self, value):\n",
    "        new_node = Node(value)\n",
    "        if not self.root:\n",
    "            self.root = new_node\n",
    "        else:\n",
    "            self._insert_recursive(self.root, new_node)\n",
    "\n",
    "    def _insert_recursive(self, current_node, new_node):\n",
    "        if not current_node.left:\n",
    "            current_node.left = new_node\n",
    "            new_node.parent = current_node\n",
    "        elif not current_node.right:\n",
    "            current_node.right = new_node\n",
    "            new_node.parent = current_node\n",
    "        else:\n",
    "            # Find the side with fewer nodes\n",
    "            left_height = self._get_height(current_node.left)\n",
    "            right_height = self._get_height(current_node.right)\n",
    "\n",
    "            if left_height <= right_height:\n",
    "                self._insert_recursive(current_node.left, new_node)\n",
    "            else:\n",
    "                self._insert_recursive(current_node.right, new_node)\n",
    "\n",
    "        self._heapify_up(new_node)\n",
    "\n",
    "    def _heapify_up(self, node):\n",
    "        while node.parent and node.value < node.parent.value:\n",
    "            node.value, node.parent.value = node.parent.value, node.value\n",
    "            node = node.parent\n",
    "\n",
    "    def _get_height(self, node):\n",
    "        if not node:\n",
    "            return 0\n",
    "        left_height = self._get_height(node.left)\n",
    "        right_height = self._get_height(node.right)\n",
    "        return max(left_height, right_height) + 1\n",
    "\n",
    "# Example usage:\n",
    "min_heap_linked = MinHeapLinkedNodes()\n",
    "min_heap_linked.insert(4)\n",
    "min_heap_linked.insert(2)\n",
    "min_heap_linked.insert(7)\n",
    "min_heap_linked.insert(5)"
   ]
  }
 ],
 "metadata": {
  "kernelspec": {
   "display_name": "Python 3",
   "language": "python",
   "name": "python3"
  },
  "language_info": {
   "codemirror_mode": {
    "name": "ipython",
    "version": 3
   },
   "file_extension": ".py",
   "mimetype": "text/x-python",
   "name": "python",
   "nbconvert_exporter": "python",
   "pygments_lexer": "ipython3",
   "version": "3.11.4"
  }
 },
 "nbformat": 4,
 "nbformat_minor": 2
}
