{
 "cells": [
  {
   "cell_type": "markdown",
   "metadata": {},
   "source": [
    "# Max Heap using Python List"
   ]
  },
  {
   "cell_type": "code",
   "execution_count": 1,
   "metadata": {},
   "outputs": [
    {
     "name": "stdout",
     "output_type": "stream",
     "text": [
      "Max Heap using Python List: [7, 5, 4, 2]\n",
      "Extracted Max Value: 7\n",
      "Updated Max Heap: [5, 2, 4]\n"
     ]
    }
   ],
   "source": [
    "class MaxHeapList:\n",
    "    def __init__(self):\n",
    "        self.heap = []\n",
    "\n",
    "    def __str__(self):\n",
    "        return str(self.heap)\n",
    "\n",
    "    def heapify_up(self, index):\n",
    "        while index > 0:\n",
    "            parent_index = (index - 1) // 2\n",
    "            if self.heap[index] > self.heap[parent_index]:\n",
    "                self.heap[index], self.heap[parent_index] = self.heap[parent_index], self.heap[index]\n",
    "                index = parent_index\n",
    "            else:\n",
    "                break\n",
    "\n",
    "    def heapify_down(self, index):\n",
    "        while True:\n",
    "            left_child_index = 2 * index + 1\n",
    "            right_child_index = 2 * index + 2\n",
    "            largest = index\n",
    "\n",
    "            if left_child_index < len(self.heap) and self.heap[left_child_index] > self.heap[largest]:\n",
    "                largest = left_child_index\n",
    "\n",
    "            if right_child_index < len(self.heap) and self.heap[right_child_index] > self.heap[largest]:\n",
    "                largest = right_child_index\n",
    "\n",
    "            if largest != index:\n",
    "                self.heap[index], self.heap[largest] = self.heap[largest], self.heap[index]\n",
    "                index = largest\n",
    "            else:\n",
    "                break\n",
    "\n",
    "    def insert(self, value):\n",
    "        self.heap.append(value)\n",
    "        self.heapify_up(len(self.heap) - 1)\n",
    "\n",
    "    def extract_max(self):\n",
    "        if not self.heap:\n",
    "            return None\n",
    "\n",
    "        max_value = self.heap[0]\n",
    "\n",
    "        # Swap the last element with the root and heapify down\n",
    "        self.heap[0] = self.heap[-1]\n",
    "        del self.heap[-1]\n",
    "        self.heapify_down(0)\n",
    "\n",
    "        return max_value\n",
    "\n",
    "# Example usage:\n",
    "max_heap = MaxHeapList()\n",
    "max_heap.insert(4)\n",
    "max_heap.insert(2)\n",
    "max_heap.insert(7)\n",
    "max_heap.insert(5)\n",
    "\n",
    "print(\"Max Heap using Python List:\", max_heap)\n",
    "max_value = max_heap.extract_max()\n",
    "print(\"Extracted Max Value:\", max_value)\n",
    "print(\"Updated Max Heap:\", max_heap)"
   ]
  }
 ],
 "metadata": {
  "kernelspec": {
   "display_name": "Python 3",
   "language": "python",
   "name": "python3"
  },
  "language_info": {
   "codemirror_mode": {
    "name": "ipython",
    "version": 3
   },
   "file_extension": ".py",
   "mimetype": "text/x-python",
   "name": "python",
   "nbconvert_exporter": "python",
   "pygments_lexer": "ipython3",
   "version": "3.11.4"
  }
 },
 "nbformat": 4,
 "nbformat_minor": 2
}
